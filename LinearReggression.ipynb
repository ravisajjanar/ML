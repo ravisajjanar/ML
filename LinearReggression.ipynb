{
  "nbformat": 4,
  "nbformat_minor": 0,
  "metadata": {
    "colab": {
      "name": "LinearReggression.ipynb",
      "provenance": [],
      "collapsed_sections": [],
      "authorship_tag": "ABX9TyM9rXX/DL4e4AVfd1GPe5UX",
      "include_colab_link": true
    },
    "kernelspec": {
      "name": "python3",
      "display_name": "Python 3"
    },
    "language_info": {
      "name": "python"
    }
  },
  "cells": [
    {
      "cell_type": "markdown",
      "metadata": {
        "id": "view-in-github",
        "colab_type": "text"
      },
      "source": [
        "<a href=\"https://colab.research.google.com/github/ravisajjanar/ML/blob/main/LinearReggression.ipynb\" target=\"_parent\"><img src=\"https://colab.research.google.com/assets/colab-badge.svg\" alt=\"Open In Colab\"/></a>"
      ]
    },
    {
      "cell_type": "code",
      "execution_count": null,
      "metadata": {
        "id": "_u8gOLIYg_tB"
      },
      "outputs": [],
      "source": [
        "import numpy as np\n",
        "import matplotlib.pyplot as plt\n",
        "import pandas as pd\n",
        "\n",
        "\n",
        "dataset = pd.read_csv('data.csv')\n",
        "X = dataset.iloc[:, :-1].values\n",
        "y = dataset.iloc[:, 1].values\n",
        "\n",
        "\n",
        "from sklearn.model_selection import train_test_split \n",
        "X_train, X_test, y_train, y_test = train_test_split(X, y, test_size=1/3, random_state=0)\n",
        "\n",
        "\n",
        "# Fitting Simple Linear Regression to the Training set\n",
        "from sklearn.linear_model import LinearRegression\n",
        "regressor = LinearRegression()\n",
        "regressor.fit(X_train, y_train)\n",
        "LinearRegression(copy_X=True, fit_intercept=True, n_jobs=None, normalize=False)\n",
        "\n",
        "\n",
        "# Predicting the Test set results\n",
        "y_pred = regressor.predict(X_test)\n",
        "\n",
        "\n",
        "# Visualizing the Training set results\n",
        "viz_train = plt\n",
        "viz_train.scatter(X_train, y_train, color='red')\n",
        "viz_train.plot(X_train, regressor.predict(X_train), color='blue')\n",
        "viz_train.title('Salary VS Experience (Training set)')\n",
        "viz_train.xlabel('Year of Experience')\n",
        "viz_train.ylabel('Salary')\n",
        "viz_train.show()\n",
        "\n",
        "# Visualizing the Test set results\n",
        "viz_test = plt\n",
        "viz_test.scatter(X_test, y_test, color='red')\n",
        "viz_test.plot(X_train, regressor.predict(X_train), color='blue')\n",
        "viz_test.title('Salary VS Experience (Test set)')\n",
        "viz_test.xlabel('Year of Experience')\n",
        "viz_test.ylabel('Salary')\n",
        "viz_test.show()"
      ]
    }
  ]
}